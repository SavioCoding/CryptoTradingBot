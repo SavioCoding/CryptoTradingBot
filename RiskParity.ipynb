{
 "cells": [
  {
   "cell_type": "code",
   "execution_count": 1,
   "metadata": {
    "colab": {
     "base_uri": "https://localhost:8080/"
    },
    "id": "ECcaRrOjwqlt",
    "is_executing": true,
    "outputId": "cb24e973-f474-44e7-98b3-6cbf4a1a01fb"
   },
   "outputs": [
    {
     "name": "stdout",
     "output_type": "stream",
     "text": [
      "Requirement already satisfied: yfinance in /Users/ipsihou/opt/anaconda3/lib/python3.9/site-packages (0.2.22)\n",
      "Requirement already satisfied: lxml>=4.9.1 in /Users/ipsihou/opt/anaconda3/lib/python3.9/site-packages (from yfinance) (4.9.3)\n",
      "Requirement already satisfied: pandas>=1.3.0 in /Users/ipsihou/opt/anaconda3/lib/python3.9/site-packages (from yfinance) (1.4.2)\n",
      "Requirement already satisfied: numpy>=1.16.5 in /Users/ipsihou/opt/anaconda3/lib/python3.9/site-packages (from yfinance) (1.21.5)\n",
      "Requirement already satisfied: appdirs>=1.4.4 in /Users/ipsihou/opt/anaconda3/lib/python3.9/site-packages (from yfinance) (1.4.4)\n",
      "Requirement already satisfied: frozendict>=2.3.4 in /Users/ipsihou/opt/anaconda3/lib/python3.9/site-packages (from yfinance) (2.3.8)\n",
      "Requirement already satisfied: html5lib>=1.1 in /Users/ipsihou/opt/anaconda3/lib/python3.9/site-packages (from yfinance) (1.1)\n",
      "Requirement already satisfied: beautifulsoup4>=4.11.1 in /Users/ipsihou/opt/anaconda3/lib/python3.9/site-packages (from yfinance) (4.11.1)\n",
      "Requirement already satisfied: multitasking>=0.0.7 in /Users/ipsihou/opt/anaconda3/lib/python3.9/site-packages (from yfinance) (0.0.11)\n",
      "Requirement already satisfied: pytz>=2022.5 in /Users/ipsihou/opt/anaconda3/lib/python3.9/site-packages (from yfinance) (2023.3)\n",
      "Requirement already satisfied: requests>=2.26 in /Users/ipsihou/opt/anaconda3/lib/python3.9/site-packages (from yfinance) (2.31.0)\n",
      "Requirement already satisfied: soupsieve>1.2 in /Users/ipsihou/opt/anaconda3/lib/python3.9/site-packages (from beautifulsoup4>=4.11.1->yfinance) (2.3.1)\n",
      "Requirement already satisfied: webencodings in /Users/ipsihou/opt/anaconda3/lib/python3.9/site-packages (from html5lib>=1.1->yfinance) (0.5.1)\n",
      "Requirement already satisfied: six>=1.9 in /Users/ipsihou/opt/anaconda3/lib/python3.9/site-packages (from html5lib>=1.1->yfinance) (1.16.0)\n",
      "Requirement already satisfied: python-dateutil>=2.8.1 in /Users/ipsihou/opt/anaconda3/lib/python3.9/site-packages (from pandas>=1.3.0->yfinance) (2.8.2)\n",
      "Requirement already satisfied: charset-normalizer<4,>=2 in /Users/ipsihou/opt/anaconda3/lib/python3.9/site-packages (from requests>=2.26->yfinance) (2.0.4)\n",
      "Requirement already satisfied: certifi>=2017.4.17 in /Users/ipsihou/opt/anaconda3/lib/python3.9/site-packages (from requests>=2.26->yfinance) (2019.11.28)\n",
      "Requirement already satisfied: idna<4,>=2.5 in /Users/ipsihou/opt/anaconda3/lib/python3.9/site-packages (from requests>=2.26->yfinance) (2.8)\n",
      "Requirement already satisfied: urllib3<3,>=1.21.1 in /Users/ipsihou/opt/anaconda3/lib/python3.9/site-packages (from requests>=2.26->yfinance) (1.25.7)\n"
     ]
    }
   ],
   "source": [
    "!pip install yfinance"
   ]
  },
  {
   "cell_type": "code",
   "execution_count": 2,
   "metadata": {
    "id": "zwWyvIhMzi6f",
    "is_executing": true
   },
   "outputs": [],
   "source": [
    "import numpy as np\n",
    "from pylab import plt\n",
    "import math\n",
    "import pandas as pd"
   ]
  },
  {
   "cell_type": "code",
   "execution_count": 5,
   "metadata": {
    "id": "qJyMKl5lxF_q"
   },
   "outputs": [],
   "source": [
    "# import yfinance as yf\n",
    "# assets = ['BTC-USD','AAPL','MSFT','META']\n",
    "\n",
    "# df = yf.download(assets, start=\"2019-01-01\", end=\"2023-05-05\")\n",
    "# print('currency:', currency_list)\n",
    "# data = yf.download(stock_list, start=\"2015-01-01\", end=\"2020-02-21\")\n",
    "# BNBUSDT = pd.read_csv(\"BNBUSDT-1d.csv\", parse_dates=[\"Date\"], index_col=\"Date\")\n",
    "BTCUSDT = pd.read_csv(\"./data/BTCUSDT-1d.csv\", parse_dates=[\"Date\"], index_col=\"Date\")\n",
    "ETHUSDT = pd.read_csv(\"./data/ETHUSDT-1d.csv\", parse_dates=[\"Date\"], index_col=\"Date\")\n",
    "LTCUSDT = pd.read_csv(\"./data/LTCUSDT-1d.csv\", parse_dates=[\"Date\"], index_col=\"Date\")\n",
    "TRXUSDT = pd.read_csv(\"./data/TRXUSDT-1d.csv\", parse_dates=[\"Date\"], index_col=\"Date\")\n",
    "XRPUSDT = pd.read_csv(\"./data/XRPUSDT-1d.csv\", parse_dates=[\"Date\"], index_col=\"Date\")"
   ]
  },
  {
   "cell_type": "code",
   "execution_count": 6,
   "metadata": {
    "id": "_tsuyWyCFB9E"
   },
   "outputs": [],
   "source": [
    "Date = \"2019-01-01\"\n",
    "prices = pd.DataFrame(columns=[\"BTCUSDT\",\"ETHUSDT\",\"LTCUSDT\",\"TRXUSDT\",\"XRPUSDT\"])\n",
    "# pd.DataFrame([BNBUSDT[\"Close\"].loc[\"2019-01-01\":], BTCUSDT[\"Close\"].loc[\"2019-01-01\":],\n",
    "#               ETHUSDT[\"Close\"].loc[\"2019-01-01\":], LTCUSDT[\"Close\"].loc[\"2019-01-01\":],\n",
    "#               TRXUSDT[\"Close\"].loc[\"2019-01-01\":], XRPUSDT[\"Close\"].loc[\"2019-01-01\":]],\n",
    "#              columns=[\"BNBUSDT\",\"BTCUSDT\",\"ETHUSDT\",\"LTCUSDT\",\"TRXUSDT\",\"XRPUSDT\"])\n",
    "# prices[\"BNBUSDT\"] = BNBUSDT[\"Close\"].loc[\"2019-01-01\":]\n",
    "prices[\"BTCUSDT\"] = BTCUSDT[\"Close\"].loc[\"2019-01-01\":]\n",
    "prices[\"ETHUSDT\"] = ETHUSDT[\"Close\"].loc[\"2019-01-01\":]\n",
    "prices[\"LTCUSDT\"] = LTCUSDT[\"Close\"].loc[\"2019-01-01\":]\n",
    "prices[\"TRXUSDT\"] = TRXUSDT[\"Close\"].loc[\"2019-01-01\":]\n",
    "prices[\"XRPUSDT\"] = XRPUSDT[\"Close\"].loc[\"2019-01-01\":]"
   ]
  },
  {
   "cell_type": "code",
   "execution_count": 7,
   "metadata": {
    "colab": {
     "base_uri": "https://localhost:8080/",
     "height": 455
    },
    "id": "v58MmmqsFLJI",
    "outputId": "7e05561b-2e0c-407b-9dba-1cf86b2261ec"
   },
   "outputs": [
    {
     "data": {
      "text/html": [
       "<div>\n",
       "<style scoped>\n",
       "    .dataframe tbody tr th:only-of-type {\n",
       "        vertical-align: middle;\n",
       "    }\n",
       "\n",
       "    .dataframe tbody tr th {\n",
       "        vertical-align: top;\n",
       "    }\n",
       "\n",
       "    .dataframe thead th {\n",
       "        text-align: right;\n",
       "    }\n",
       "</style>\n",
       "<table border=\"1\" class=\"dataframe\">\n",
       "  <thead>\n",
       "    <tr style=\"text-align: right;\">\n",
       "      <th></th>\n",
       "      <th>BTCUSDT</th>\n",
       "      <th>ETHUSDT</th>\n",
       "      <th>LTCUSDT</th>\n",
       "      <th>TRXUSDT</th>\n",
       "      <th>XRPUSDT</th>\n",
       "    </tr>\n",
       "    <tr>\n",
       "      <th>Date</th>\n",
       "      <th></th>\n",
       "      <th></th>\n",
       "      <th></th>\n",
       "      <th></th>\n",
       "      <th></th>\n",
       "    </tr>\n",
       "  </thead>\n",
       "  <tbody>\n",
       "    <tr>\n",
       "      <th>2019-01-01</th>\n",
       "      <td>3797.14</td>\n",
       "      <td>139.10</td>\n",
       "      <td>31.48</td>\n",
       "      <td>0.01928</td>\n",
       "      <td>0.36080</td>\n",
       "    </tr>\n",
       "    <tr>\n",
       "      <th>2019-01-02</th>\n",
       "      <td>3858.56</td>\n",
       "      <td>152.01</td>\n",
       "      <td>32.67</td>\n",
       "      <td>0.01974</td>\n",
       "      <td>0.36882</td>\n",
       "    </tr>\n",
       "    <tr>\n",
       "      <th>2019-01-03</th>\n",
       "      <td>3766.78</td>\n",
       "      <td>146.30</td>\n",
       "      <td>31.39</td>\n",
       "      <td>0.01966</td>\n",
       "      <td>0.35240</td>\n",
       "    </tr>\n",
       "    <tr>\n",
       "      <th>2019-01-04</th>\n",
       "      <td>3792.01</td>\n",
       "      <td>151.97</td>\n",
       "      <td>31.76</td>\n",
       "      <td>0.02106</td>\n",
       "      <td>0.35308</td>\n",
       "    </tr>\n",
       "    <tr>\n",
       "      <th>2019-01-05</th>\n",
       "      <td>3770.96</td>\n",
       "      <td>152.83</td>\n",
       "      <td>34.33</td>\n",
       "      <td>0.02190</td>\n",
       "      <td>0.34851</td>\n",
       "    </tr>\n",
       "    <tr>\n",
       "      <th>...</th>\n",
       "      <td>...</td>\n",
       "      <td>...</td>\n",
       "      <td>...</td>\n",
       "      <td>...</td>\n",
       "      <td>...</td>\n",
       "    </tr>\n",
       "    <tr>\n",
       "      <th>2023-07-16</th>\n",
       "      <td>30231.99</td>\n",
       "      <td>1922.11</td>\n",
       "      <td>92.89</td>\n",
       "      <td>0.07980</td>\n",
       "      <td>0.74680</td>\n",
       "    </tr>\n",
       "    <tr>\n",
       "      <th>2023-07-17</th>\n",
       "      <td>30138.00</td>\n",
       "      <td>1911.20</td>\n",
       "      <td>92.20</td>\n",
       "      <td>0.07997</td>\n",
       "      <td>0.73740</td>\n",
       "    </tr>\n",
       "    <tr>\n",
       "      <th>2023-07-18</th>\n",
       "      <td>29859.13</td>\n",
       "      <td>1897.21</td>\n",
       "      <td>91.56</td>\n",
       "      <td>0.07978</td>\n",
       "      <td>0.77790</td>\n",
       "    </tr>\n",
       "    <tr>\n",
       "      <th>2023-07-19</th>\n",
       "      <td>29909.21</td>\n",
       "      <td>1888.63</td>\n",
       "      <td>92.61</td>\n",
       "      <td>0.07978</td>\n",
       "      <td>0.80130</td>\n",
       "    </tr>\n",
       "    <tr>\n",
       "      <th>2023-07-20</th>\n",
       "      <td>30288.00</td>\n",
       "      <td>1922.36</td>\n",
       "      <td>NaN</td>\n",
       "      <td>NaN</td>\n",
       "      <td>NaN</td>\n",
       "    </tr>\n",
       "  </tbody>\n",
       "</table>\n",
       "<p>1662 rows × 5 columns</p>\n",
       "</div>"
      ],
      "text/plain": [
       "             BTCUSDT  ETHUSDT  LTCUSDT  TRXUSDT  XRPUSDT\n",
       "Date                                                    \n",
       "2019-01-01   3797.14   139.10    31.48  0.01928  0.36080\n",
       "2019-01-02   3858.56   152.01    32.67  0.01974  0.36882\n",
       "2019-01-03   3766.78   146.30    31.39  0.01966  0.35240\n",
       "2019-01-04   3792.01   151.97    31.76  0.02106  0.35308\n",
       "2019-01-05   3770.96   152.83    34.33  0.02190  0.34851\n",
       "...              ...      ...      ...      ...      ...\n",
       "2023-07-16  30231.99  1922.11    92.89  0.07980  0.74680\n",
       "2023-07-17  30138.00  1911.20    92.20  0.07997  0.73740\n",
       "2023-07-18  29859.13  1897.21    91.56  0.07978  0.77790\n",
       "2023-07-19  29909.21  1888.63    92.61  0.07978  0.80130\n",
       "2023-07-20  30288.00  1922.36      NaN      NaN      NaN\n",
       "\n",
       "[1662 rows x 5 columns]"
      ]
     },
     "execution_count": 7,
     "metadata": {},
     "output_type": "execute_result"
    }
   ],
   "source": [
    "prices"
   ]
  },
  {
   "cell_type": "code",
   "execution_count": 8,
   "metadata": {
    "id": "cir-9PWVxWZO"
   },
   "outputs": [],
   "source": [
    "rets = prices.pct_change()"
   ]
  },
  {
   "cell_type": "code",
   "execution_count": 10,
   "metadata": {
    "colab": {
     "base_uri": "https://localhost:8080/",
     "height": 300
    },
    "id": "jknch05e3UXr",
    "outputId": "c3b37254-ee36-4c17-bdce-42d490f2590a"
   },
   "outputs": [
    {
     "data": {
      "text/html": [
       "<div>\n",
       "<style scoped>\n",
       "    .dataframe tbody tr th:only-of-type {\n",
       "        vertical-align: middle;\n",
       "    }\n",
       "\n",
       "    .dataframe tbody tr th {\n",
       "        vertical-align: top;\n",
       "    }\n",
       "\n",
       "    .dataframe thead th {\n",
       "        text-align: right;\n",
       "    }\n",
       "</style>\n",
       "<table border=\"1\" class=\"dataframe\">\n",
       "  <thead>\n",
       "    <tr style=\"text-align: right;\">\n",
       "      <th></th>\n",
       "      <th>BTCUSDT</th>\n",
       "      <th>ETHUSDT</th>\n",
       "      <th>LTCUSDT</th>\n",
       "      <th>TRXUSDT</th>\n",
       "      <th>XRPUSDT</th>\n",
       "    </tr>\n",
       "  </thead>\n",
       "  <tbody>\n",
       "    <tr>\n",
       "      <th>count</th>\n",
       "      <td>1661.000000</td>\n",
       "      <td>1661.000000</td>\n",
       "      <td>1661.000000</td>\n",
       "      <td>1661.000000</td>\n",
       "      <td>1661.000000</td>\n",
       "    </tr>\n",
       "    <tr>\n",
       "      <th>mean</th>\n",
       "      <td>0.001938</td>\n",
       "      <td>0.002723</td>\n",
       "      <td>0.002001</td>\n",
       "      <td>0.002128</td>\n",
       "      <td>0.002142</td>\n",
       "    </tr>\n",
       "    <tr>\n",
       "      <th>std</th>\n",
       "      <td>0.036689</td>\n",
       "      <td>0.047201</td>\n",
       "      <td>0.051671</td>\n",
       "      <td>0.050173</td>\n",
       "      <td>0.059251</td>\n",
       "    </tr>\n",
       "    <tr>\n",
       "      <th>min</th>\n",
       "      <td>-0.395048</td>\n",
       "      <td>-0.445969</td>\n",
       "      <td>-0.385329</td>\n",
       "      <td>-0.435191</td>\n",
       "      <td>-0.416469</td>\n",
       "    </tr>\n",
       "    <tr>\n",
       "      <th>25%</th>\n",
       "      <td>-0.014291</td>\n",
       "      <td>-0.019766</td>\n",
       "      <td>-0.023562</td>\n",
       "      <td>-0.020058</td>\n",
       "      <td>-0.020977</td>\n",
       "    </tr>\n",
       "    <tr>\n",
       "      <th>50%</th>\n",
       "      <td>0.000781</td>\n",
       "      <td>0.001540</td>\n",
       "      <td>0.000648</td>\n",
       "      <td>0.002022</td>\n",
       "      <td>0.000530</td>\n",
       "    </tr>\n",
       "    <tr>\n",
       "      <th>75%</th>\n",
       "      <td>0.017693</td>\n",
       "      <td>0.025759</td>\n",
       "      <td>0.025876</td>\n",
       "      <td>0.022176</td>\n",
       "      <td>0.020971</td>\n",
       "    </tr>\n",
       "    <tr>\n",
       "      <th>max</th>\n",
       "      <td>0.195361</td>\n",
       "      <td>0.263329</td>\n",
       "      <td>0.301496</td>\n",
       "      <td>0.408912</td>\n",
       "      <td>0.730998</td>\n",
       "    </tr>\n",
       "  </tbody>\n",
       "</table>\n",
       "</div>"
      ],
      "text/plain": [
       "           BTCUSDT      ETHUSDT      LTCUSDT      TRXUSDT      XRPUSDT\n",
       "count  1661.000000  1661.000000  1661.000000  1661.000000  1661.000000\n",
       "mean      0.001938     0.002723     0.002001     0.002128     0.002142\n",
       "std       0.036689     0.047201     0.051671     0.050173     0.059251\n",
       "min      -0.395048    -0.445969    -0.385329    -0.435191    -0.416469\n",
       "25%      -0.014291    -0.019766    -0.023562    -0.020058    -0.020977\n",
       "50%       0.000781     0.001540     0.000648     0.002022     0.000530\n",
       "75%       0.017693     0.025759     0.025876     0.022176     0.020971\n",
       "max       0.195361     0.263329     0.301496     0.408912     0.730998"
      ]
     },
     "execution_count": 10,
     "metadata": {},
     "output_type": "execute_result"
    }
   ],
   "source": [
    "rets.describe()"
   ]
  },
  {
   "cell_type": "code",
   "execution_count": 11,
   "metadata": {
    "id": "6p6Z5HIrx4NA"
   },
   "outputs": [],
   "source": [
    "assets = len(prices.columns)"
   ]
  },
  {
   "cell_type": "code",
   "execution_count": 12,
   "metadata": {
    "colab": {
     "base_uri": "https://localhost:8080/",
     "height": 428
    },
    "id": "fJuGx7IrzeWy",
    "outputId": "48feb747-3ad5-4c77-d3cf-263ae7f1472f"
   },
   "outputs": [
    {
     "data": {
      "image/png": "[encoded data removed]",
      "text/plain": [
       "<Figure size 432x288 with 1 Axes>"
      ]
     },
     "metadata": {},
     "output_type": "display_data"
    }
   ],
   "source": [
    "phi = np.array(assets * [1 / assets])\n",
    "plt.pie(phi, labels=prices.columns, autopct='%1.1f%%')\n",
    "plt.title('Equally Weighted Portfolio');"
   ]
  },
  {
   "cell_type": "code",
   "execution_count": 13,
   "metadata": {
    "colab": {
     "base_uri": "https://localhost:8080/",
     "height": 206
    },
    "id": "j0Pv6W_hz5Cz",
    "outputId": "12d9bd2e-7a53-4d28-a760-6f20f9996c10"
   },
   "outputs": [
    {
     "data": {
      "text/html": [
       "<div>\n",
       "<style scoped>\n",
       "    .dataframe tbody tr th:only-of-type {\n",
       "        vertical-align: middle;\n",
       "    }\n",
       "\n",
       "    .dataframe tbody tr th {\n",
       "        vertical-align: top;\n",
       "    }\n",
       "\n",
       "    .dataframe thead th {\n",
       "        text-align: right;\n",
       "    }\n",
       "</style>\n",
       "<table border=\"1\" class=\"dataframe\">\n",
       "  <thead>\n",
       "    <tr style=\"text-align: right;\">\n",
       "      <th></th>\n",
       "      <th>BTCUSDT</th>\n",
       "      <th>ETHUSDT</th>\n",
       "      <th>LTCUSDT</th>\n",
       "      <th>TRXUSDT</th>\n",
       "      <th>XRPUSDT</th>\n",
       "    </tr>\n",
       "  </thead>\n",
       "  <tbody>\n",
       "    <tr>\n",
       "      <th>BTCUSDT</th>\n",
       "      <td>0.339206</td>\n",
       "      <td>0.359161</td>\n",
       "      <td>0.369925</td>\n",
       "      <td>0.297534</td>\n",
       "      <td>0.311594</td>\n",
       "    </tr>\n",
       "    <tr>\n",
       "      <th>ETHUSDT</th>\n",
       "      <td>0.359161</td>\n",
       "      <td>0.561430</td>\n",
       "      <td>0.497713</td>\n",
       "      <td>0.413267</td>\n",
       "      <td>0.435668</td>\n",
       "    </tr>\n",
       "    <tr>\n",
       "      <th>LTCUSDT</th>\n",
       "      <td>0.369925</td>\n",
       "      <td>0.497713</td>\n",
       "      <td>0.672811</td>\n",
       "      <td>0.432769</td>\n",
       "      <td>0.478481</td>\n",
       "    </tr>\n",
       "    <tr>\n",
       "      <th>TRXUSDT</th>\n",
       "      <td>0.297534</td>\n",
       "      <td>0.413267</td>\n",
       "      <td>0.432769</td>\n",
       "      <td>0.634379</td>\n",
       "      <td>0.450904</td>\n",
       "    </tr>\n",
       "    <tr>\n",
       "      <th>XRPUSDT</th>\n",
       "      <td>0.311594</td>\n",
       "      <td>0.435668</td>\n",
       "      <td>0.478481</td>\n",
       "      <td>0.450904</td>\n",
       "      <td>0.884701</td>\n",
       "    </tr>\n",
       "  </tbody>\n",
       "</table>\n",
       "</div>"
      ],
      "text/plain": [
       "          BTCUSDT   ETHUSDT   LTCUSDT   TRXUSDT   XRPUSDT\n",
       "BTCUSDT  0.339206  0.359161  0.369925  0.297534  0.311594\n",
       "ETHUSDT  0.359161  0.561430  0.497713  0.413267  0.435668\n",
       "LTCUSDT  0.369925  0.497713  0.672811  0.432769  0.478481\n",
       "TRXUSDT  0.297534  0.413267  0.432769  0.634379  0.450904\n",
       "XRPUSDT  0.311594  0.435668  0.478481  0.450904  0.884701"
      ]
     },
     "execution_count": 13,
     "metadata": {},
     "output_type": "execute_result"
    }
   ],
   "source": [
    "cov = rets.cov() * 252\n",
    "cov"
   ]
  },
  {
   "cell_type": "code",
   "execution_count": 14,
   "metadata": {
    "id": "biL1Uwae08Mv"
   },
   "outputs": [],
   "source": [
    "def portfolio_return(weights, rets):\n",
    "    return np.dot(weights.T, rets.mean()) * 252\n",
    "\n",
    "def portfolio_variance(weights, rets):\n",
    "    return np.dot(weights.T, np.dot(rets.cov(), weights)) * 252\n",
    "\n",
    "def portfolio_volatility(weights, rets):\n",
    "    return math.sqrt(portfolio_variance(weights, rets))"
   ]
  },
  {
   "cell_type": "code",
   "execution_count": 15,
   "metadata": {
    "colab": {
     "base_uri": "https://localhost:8080/"
    },
    "id": "yNFZ27dS1YfL",
    "outputId": "c8527e43-f875-4bf9-fc20-56c60d8724b5"
   },
   "outputs": [
    {
     "data": {
      "text/plain": [
       "0.6689261778207111"
      ]
     },
     "execution_count": 15,
     "metadata": {},
     "output_type": "execute_result"
    }
   ],
   "source": [
    "vol = portfolio_volatility(phi, rets)\n",
    "vol"
   ]
  },
  {
   "cell_type": "code",
   "execution_count": 16,
   "metadata": {
    "colab": {
     "base_uri": "https://localhost:8080/"
    },
    "id": "LDpdgnt41r-9",
    "outputId": "2cf8d1ad-bf96-45e3-c0f3-09a11d371c57"
   },
   "outputs": [
    {
     "data": {
      "text/plain": [
       "0.1337852355641422"
      ]
     },
     "execution_count": 16,
     "metadata": {},
     "output_type": "execute_result"
    }
   ],
   "source": [
    "noa = 5\n",
    "vol / noa  # \"average\" risk contribution"
   ]
  },
  {
   "cell_type": "code",
   "execution_count": 17,
   "metadata": {
    "colab": {
     "base_uri": "https://localhost:8080/"
    },
    "id": "UsripxVJ10-N",
    "outputId": "c1d30d8f-55bf-4e93-8fbb-a5e24fdcadf1"
   },
   "outputs": [
    {
     "data": {
      "text/plain": [
       "array([0.33548378, 0.45344771, 0.49033965, 0.44577034, 0.51226968])"
      ]
     },
     "execution_count": 17,
     "metadata": {},
     "output_type": "execute_result"
    }
   ],
   "source": [
    "np.dot(cov, phi)"
   ]
  },
  {
   "cell_type": "code",
   "execution_count": 18,
   "metadata": {
    "colab": {
     "base_uri": "https://localhost:8080/"
    },
    "id": "IJb_roGH135k",
    "outputId": "e6d51e40-3732-445b-ebe7-074030b9dd5f"
   },
   "outputs": [
    {
     "data": {
      "text/plain": [
       "array([0.50152587, 0.67787406, 0.73302506, 0.66639691, 0.76580899])"
      ]
     },
     "execution_count": 18,
     "metadata": {},
     "output_type": "execute_result"
    }
   ],
   "source": [
    "mvols = np.dot(cov, phi) / vol  # marginal volatilities\n",
    "mvols"
   ]
  },
  {
   "cell_type": "code",
   "execution_count": 19,
   "metadata": {
    "colab": {
     "base_uri": "https://localhost:8080/"
    },
    "id": "e9ZApp06169w",
    "outputId": "76d25148-9ae9-4f76-a2d3-e7fa441b7637"
   },
   "outputs": [
    {
     "data": {
      "text/plain": [
       "array([0.10030517, 0.13557481, 0.14660501, 0.13327938, 0.1531618 ])"
      ]
     },
     "execution_count": 19,
     "metadata": {},
     "output_type": "execute_result"
    }
   ],
   "source": [
    "rc = mvols * phi  # risk contributions (%-points)\n",
    "rc"
   ]
  },
  {
   "cell_type": "code",
   "execution_count": 20,
   "metadata": {
    "colab": {
     "base_uri": "https://localhost:8080/"
    },
    "id": "jG6OHv4m199t",
    "outputId": "03d945fa-968c-414b-a997-1665b2c3ea32"
   },
   "outputs": [
    {
     "data": {
      "text/plain": [
       "0.6689261778207111"
      ]
     },
     "execution_count": 20,
     "metadata": {},
     "output_type": "execute_result"
    }
   ],
   "source": [
    "rc.sum()"
   ]
  },
  {
   "cell_type": "code",
   "execution_count": 21,
   "metadata": {
    "colab": {
     "base_uri": "https://localhost:8080/"
    },
    "id": "-AmGBOGK3Dif",
    "outputId": "17843137-6061-4c3e-ad31-3f4b63342cb3"
   },
   "outputs": [
    {
     "data": {
      "text/plain": [
       "array([0.14994954, 0.2026753 , 0.21916471, 0.19924378, 0.22896667])"
      ]
     },
     "execution_count": 21,
     "metadata": {},
     "output_type": "execute_result"
    }
   ],
   "source": [
    "rrc = rc / rc.sum()  # relative risk contributions (%)\n",
    "rrc"
   ]
  },
  {
   "cell_type": "code",
   "execution_count": 22,
   "metadata": {
    "colab": {
     "base_uri": "https://localhost:8080/"
    },
    "id": "XbfKpB3D3GXB",
    "outputId": "66662791-9f47-4f80-ce2d-d4a612312383"
   },
   "outputs": [
    {
     "data": {
      "text/plain": [
       "1.0"
      ]
     },
     "execution_count": 22,
     "metadata": {},
     "output_type": "execute_result"
    }
   ],
   "source": [
    "rrc.sum()"
   ]
  },
  {
   "cell_type": "code",
   "execution_count": 23,
   "metadata": {
    "colab": {
     "base_uri": "https://localhost:8080/",
     "height": 428
    },
    "id": "zZhT7HMq3IOy",
    "outputId": "f1ac5dbc-2909-45a8-9346-02cc7f6ed59c"
   },
   "outputs": [
    {
     "data": {
      "image/png": "[encoded data removed]",
      "text/plain": [
       "<Figure size 432x288 with 1 Axes>"
      ]
     },
     "metadata": {},
     "output_type": "display_data"
    }
   ],
   "source": [
    "plt.pie(rrc, labels=prices.columns, autopct='%1.1f%%')\n",
    "plt.title('Relative Risk Contributions');"
   ]
  },
  {
   "cell_type": "code",
   "execution_count": null,
   "metadata": {
    "id": "Pi9IG_dhLl9Z"
   },
   "outputs": [],
   "source": []
  },
  {
   "cell_type": "code",
   "execution_count": 24,
   "metadata": {
    "id": "cUjLvXym81m6"
   },
   "outputs": [],
   "source": [
    "from scipy.optimize import minimize"
   ]
  },
  {
   "cell_type": "code",
   "execution_count": 25,
   "metadata": {
    "id": "zQlljSoJ831h"
   },
   "outputs": [],
   "source": [
    "def rel_risk_contributions(weights, rets = rets):\n",
    "    vol = portfolio_volatility(weights, rets)\n",
    "    cov = rets.cov()\n",
    "    mvols = np.dot(cov, weights) / vol\n",
    "    rc = mvols * weights\n",
    "    rrc = rc / rc.sum()\n",
    "    return rrc"
   ]
  },
  {
   "cell_type": "code",
   "execution_count": 26,
   "metadata": {
    "colab": {
     "base_uri": "https://localhost:8080/"
    },
    "id": "onYKdWbB87xP",
    "outputId": "d3abc434-f943-4fec-c2df-5a8e5742db6b"
   },
   "outputs": [
    {
     "data": {
      "text/plain": [
       "array([0.14994954, 0.2026753 , 0.21916471, 0.19924378, 0.22896667])"
      ]
     },
     "execution_count": 26,
     "metadata": {},
     "output_type": "execute_result"
    }
   ],
   "source": [
    "rrc = rel_risk_contributions(phi)\n",
    "rrc"
   ]
  },
  {
   "cell_type": "code",
   "execution_count": 27,
   "metadata": {
    "colab": {
     "base_uri": "https://localhost:8080/",
     "height": 428
    },
    "id": "3Ggd35jD9FIN",
    "outputId": "dc7ee81e-1c50-4bd0-f619-6010a125cd30"
   },
   "outputs": [
    {
     "data": {
      "image/png": "[encoded data removed]",
      "text/plain": [
       "<Figure size 432x288 with 1 Axes>"
      ]
     },
     "metadata": {},
     "output_type": "display_data"
    }
   ],
   "source": [
    "plt.pie(rrc, labels=prices.columns, autopct='%1.1f%%')\n",
    "plt.title('Equally Weighted Portfolio');"
   ]
  },
  {
   "cell_type": "code",
   "execution_count": 123,
   "metadata": {
    "id": "9FasIzIW9G42"
   },
   "outputs": [],
   "source": [
    "def mse_risk_contributions(weights, target, rets=rets):\n",
    "    rc = rel_risk_contributions(weights, rets)\n",
    "    mse = ((rc - target) ** 2).mean()\n",
    "    return mse * 100"
   ]
  },
  {
   "cell_type": "code",
   "execution_count": 124,
   "metadata": {
    "colab": {
     "base_uri": "https://localhost:8080/"
    },
    "id": "oNHbATYe99Zi",
    "outputId": "56f1c164-c3d2-4061-8282-3d6936de72a0"
   },
   "outputs": [
    {
     "data": {
      "text/plain": [
       "0.07438262975933646"
      ]
     },
     "execution_count": 124,
     "metadata": {},
     "output_type": "execute_result"
    }
   ],
   "source": [
    "mse_risk_contributions(phi, phi)"
   ]
  },
  {
   "cell_type": "code",
   "execution_count": 125,
   "metadata": {
    "id": "-eEZ5Hnq9-fV"
   },
   "outputs": [],
   "source": [
    "bnds = noa * [(0, 1),]"
   ]
  },
  {
   "cell_type": "code",
   "execution_count": 126,
   "metadata": {
    "id": "fcAcxbfz-jbu"
   },
   "outputs": [],
   "source": [
    "cons = {'type': 'eq', 'fun': lambda weights: weights.sum() - 1}"
   ]
  },
  {
   "cell_type": "code",
   "execution_count": 127,
   "metadata": {
    "colab": {
     "base_uri": "https://localhost:8080/"
    },
    "id": "1X60cLll-mvf",
    "outputId": "3bf13018-2850-4802-89f5-15285fde119b"
   },
   "outputs": [
    {
     "data": {
      "text/plain": [
       "[0.2, 0.2, 0.2, 0.2, 0.2]"
      ]
     },
     "execution_count": 127,
     "metadata": {},
     "output_type": "execute_result"
    }
   ],
   "source": [
    "target = noa * [1 / noa,]  # risk parity as target\n",
    "# target = [0.2, 0.2, 0.2, 0.4]  # example risk budget as target\n",
    "target"
   ]
  },
  {
   "cell_type": "code",
   "execution_count": 128,
   "metadata": {
    "id": "oi60vmOM-v8R"
   },
   "outputs": [],
   "source": [
    "opt = minimize(lambda w: mse_risk_contributions(w, target=target),\n",
    "               phi, bounds=bnds, constraints=cons)"
   ]
  },
  {
   "cell_type": "code",
   "execution_count": 129,
   "metadata": {
    "colab": {
     "base_uri": "https://localhost:8080/"
    },
    "id": "S0zfsFcU-yZE",
    "outputId": "9f73a6e2-eff4-4923-eedf-3831367b28fd"
   },
   "outputs": [
    {
     "data": {
      "text/plain": [
       " message: Optimization terminated successfully\n",
       " success: True\n",
       "  status: 0\n",
       "     fun: 3.1897867644289233e-07\n",
       "       x: [ 2.565e-01  1.925e-01  1.793e-01  1.969e-01  1.747e-01]\n",
       "     nit: 6\n",
       "     jac: [-1.788e-03 -3.651e-03  2.287e-03  1.001e-03  3.175e-03]\n",
       "    nfev: 44\n",
       "    njev: 6"
      ]
     },
     "execution_count": 129,
     "metadata": {},
     "output_type": "execute_result"
    }
   ],
   "source": [
    "opt"
   ]
  },
  {
   "cell_type": "code",
   "execution_count": 130,
   "metadata": {
    "id": "kIAf0Ewh-1b9"
   },
   "outputs": [],
   "source": [
    "phi_ = opt['x']"
   ]
  },
  {
   "cell_type": "code",
   "execution_count": 131,
   "metadata": {
    "colab": {
     "base_uri": "https://localhost:8080/",
     "height": 428
    },
    "id": "374HxNDL-3k0",
    "outputId": "93316c79-d988-4b88-d4a6-c6179d9ef950"
   },
   "outputs": [
    {
     "data": {
      "image/png": "[encoded data removed]",
      "text/plain": [
       "<Figure size 640x480 with 1 Axes>"
      ]
     },
     "metadata": {},
     "output_type": "display_data"
    }
   ],
   "source": [
    "plt.pie(phi_, labels=prices.columns, autopct='%1.1f%%')\n",
    "plt.title('Optimal Portfolio Weights');"
   ]
  },
  {
   "cell_type": "code",
   "execution_count": 137,
   "metadata": {
    "id": "f8NRdwQ7NCsZ"
   },
   "outputs": [],
   "source": [
    "risk_parity = {\n",
    "    \"BTCUSDT\": 0.257,\n",
    "    \"ETHUSDT\": 0.193,\n",
    "    \"LTCUSDT\": 0.170,\n",
    "    \"XRPUSDT\": 0.175,\n",
    "    \"TRXUSDT\": 0.197,\n",
    "}"
   ]
  },
  {
   "cell_type": "code",
   "execution_count": 133,
   "metadata": {
    "id": "WiLmxiqQNyTm"
   },
   "outputs": [],
   "source": [
    "import json"
   ]
  },
  {
   "cell_type": "code",
   "execution_count": 139,
   "metadata": {
    "id": "ztgVRyFYNtAi"
   },
   "outputs": [],
   "source": [
    "with open('risk_parity.json', 'w') as fp:\n",
    "    json.dump(risk_parity, fp)"
   ]
  }
 ],
 "metadata": {
  "colab": {
   "provenance": []
  },
  "kernelspec": {
   "display_name": "Python 3 (ipykernel)",
   "language": "python",
   "name": "python3"
  },
  "language_info": {
   "codemirror_mode": {
    "name": "ipython",
    "version": 3
   },
   "file_extension": ".py",
   "mimetype": "text/x-python",
   "name": "python",
   "nbconvert_exporter": "python",
   "pygments_lexer": "ipython3",
   "version": "3.9.12"
  }
 },
 "nbformat": 4,
 "nbformat_minor": 1
}
